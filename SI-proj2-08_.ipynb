{
 "cells": [
  {
   "cell_type": "markdown",
   "id": "bf9c87b1",
   "metadata": {},
   "source": [
    "# Sistemas Inteligentes 2021/2022\n",
    "\n",
    "## Mini-projeto 2: Quadrados Latinos\n"
   ]
  },
  {
   "cell_type": "markdown",
   "id": "d7b8efca",
   "metadata": {},
   "source": [
    "## Grupo: 08\n",
    "\n",
    "### Elementos do Grupo\n",
    "\n",
    "Número: 54329   Nome: David da Costa Correia    \n",
    "Número: 56906   Nome: Miguel Castro  \n",
    "Número: 56922   Nome: João Leal"
   ]
  },
  {
   "cell_type": "markdown",
   "metadata": {},
   "source": [
    "<hr>"
   ]
  },
  {
   "cell_type": "markdown",
   "id": "4ab69211",
   "metadata": {},
   "source": [
    "## Quadrados Latinos\n",
    "\n",
    "### Representação de variáveis, domínios, vizinhos e restrições\n",
    "\n",
    "#### Variáveis\n",
    "\n",
    "#### Domínios\n",
    "\n",
    "#### Restrições\n",
    "\n",
    "### Formulação do Problema"
   ]
  },
  {
   "cell_type": "code",
   "execution_count": 1,
   "id": "c5327f4f",
   "metadata": {},
   "outputs": [],
   "source": [
    "def grid_neighbors(cell, grid):\n",
    "    '''Returns the grid neighbors of a cell, i.e. all the cells \n",
    "    that share a row or column with the given cell.'''\n",
    "    x, y = cell[0], cell[1]\n",
    "    return [cel for cel in grid if ((cel[0] == x) or (cel[1] == y)) and (cel != cell)]\n",
    "\n",
    "from csp import *\n",
    "\n",
    "def latin_square(dim, numbers={}):\n",
    "\n",
    "    variables = [(x,y) for x in range(1,dim+1) for y in range(1,dim+1)]\n",
    "\n",
    "    domains = {v:list(range(1,dim+1)) for v in variables}\n",
    "\n",
    "    for cell,value in numbers.items():\n",
    "        if value > dim:\n",
    "            raise 'Erro: valor atribuído inválido'\n",
    "        else:\n",
    "            domains[cell] = [value]\n",
    "\n",
    "    neighbors = {v:grid_neighbors(v, variables) for v in variables}\n",
    "\n",
    "    def constraints(X, a, Y, b):\n",
    "        return a != b\n",
    "    \n",
    "    return CSP(variables, domains, neighbors, constraints)"
   ]
  },
  {
   "cell_type": "markdown",
   "metadata": {},
   "source": [
    "### Visualização do problema"
   ]
  },
  {
   "cell_type": "code",
   "execution_count": 24,
   "metadata": {},
   "outputs": [],
   "source": [
    "def force_ordered_board(dim, board):\n",
    "    '''Forces the natural order of elements in the board.\n",
    "    Example: {(1,1):N, (2,1):N, ... (i,j):N}'''\n",
    "    template = [(x,y) for y in range(1,dim+1) for x in range(1,dim+1)] # [(1,1), (2,1), ...]\n",
    "    return {cell:board[cell] for cell in template}\n",
    "\n",
    "def latin_square_output(dim, board):\n",
    "    '''Prints a latin square board.'''\n",
    "    board = force_ordered_board(dim, board)\n",
    "    i = 0\n",
    "    output = ''\n",
    "    for value in board.values():\n",
    "        if i < dim: # the output must be as long as dim\n",
    "            output = output + str(value) + ' '\n",
    "            i += 1\n",
    "        else: # print output row and start a new one\n",
    "            print(output)\n",
    "            output = str(value) + ' '\n",
    "            i = 1\n",
    "    print(output) # print the last row\n",
    "\n",
    "def display(dim, board, neqs=None):\n",
    "    '''Displays a latin square or futoshiki board \n",
    "    wheter neqs is not given or given, respectively.\n",
    "    It also can display either unsolved or solved problems.'''\n",
    "    if isinstance(board, dict): # solved problem\n",
    "        if not neqs:\n",
    "            latin_square_output(dim, board)\n",
    "        else: futoshiki_output(dim, board, neqs)\n",
    "    else: # unsolved problem\n",
    "        board = board.domains.copy()\n",
    "\n",
    "        for cell,domain in board.items():\n",
    "            if len(domain) > 1: # i.e. there were no pre-existing given numbers \n",
    "                board[cell] = '-'\n",
    "            else:\n",
    "                board[cell] = domain[0] # domain[0] is the pre-existing given number\n",
    "\n",
    "        if not neqs:\n",
    "            latin_square_output(dim, board)\n",
    "        else: futoshiki_output(dim, board, neqs)"
   ]
  },
  {
   "cell_type": "markdown",
   "id": "f46b1688",
   "metadata": {},
   "source": [
    "### Instâncias e Testes\n",
    "\n",
    "Mostrem que o código está a funcionar, construindo um problema de quadrado latino *4x4*, imprimindo as variáveis, domínios iniciais, e vizinhos. Adicione os comentários necessários. Mostre como podemos criar um puzzle com quadrados já preenchidos, e qual o impacto que isso tem nas variáveis, domínios iniciais, e vizinhos."
   ]
  },
  {
   "cell_type": "code",
   "execution_count": 23,
   "id": "0b95b771",
   "metadata": {},
   "outputs": [],
   "source": [
    "tls = latin_square(10)#, board={(2,2):3})"
   ]
  },
  {
   "cell_type": "markdown",
   "metadata": {},
   "source": [
    "Resolva o problema com o backtracking sem inferencia, com inferencia, e com uma heurística."
   ]
  },
  {
   "cell_type": "code",
   "execution_count": 31,
   "metadata": {},
   "outputs": [
    {
     "name": "stdout",
     "output_type": "stream",
     "text": [
      "Sem inferência:\n",
      "1 2 3 4 5 6 7 8 9 10 \n",
      "2 1 4 3 6 5 8 7 10 9 \n",
      "3 4 1 2 7 8 9 10 5 6 \n",
      "4 3 2 1 8 7 10 9 6 5 \n",
      "5 6 7 8 9 10 4 1 2 3 \n",
      "6 5 8 7 10 9 1 3 4 2 \n",
      "7 8 9 10 3 2 5 6 1 4 \n",
      "8 7 10 9 2 4 6 5 3 1 \n",
      "9 10 6 5 4 1 3 2 7 8 \n",
      "10 9 5 6 1 3 2 4 8 7 \n",
      "0.002010799999993651\n",
      "\n",
      "Com inferência forward-checking:\n",
      "1 2 3 4 5 6 7 8 9 10 \n",
      "2 1 4 3 6 5 8 7 10 9 \n",
      "3 4 1 2 7 8 9 10 5 6 \n",
      "4 3 2 1 8 7 10 9 6 5 \n",
      "5 6 7 8 9 10 4 1 2 3 \n",
      "6 5 8 7 10 9 1 3 4 2 \n",
      "7 8 9 10 3 2 5 6 1 4 \n",
      "8 7 10 9 2 4 6 5 3 1 \n",
      "9 10 6 5 4 1 3 2 7 8 \n",
      "10 9 5 6 1 3 2 4 8 7 \n",
      "0.0025580000000218206\n",
      "\n",
      "Com inferência MAC:\n",
      "1 2 3 4 5 6 7 8 9 10 \n",
      "2 1 4 3 6 5 8 7 10 9 \n",
      "3 4 1 2 7 8 9 10 5 6 \n",
      "4 3 2 1 8 7 10 9 6 5 \n",
      "5 6 7 8 9 10 4 1 2 3 \n",
      "6 5 8 7 10 9 1 3 4 2 \n",
      "7 8 9 10 3 2 5 6 1 4 \n",
      "8 7 10 9 2 4 6 5 3 1 \n",
      "9 10 6 5 4 1 3 2 7 8 \n",
      "10 9 5 6 1 3 2 4 8 7 \n",
      "0.003725499999973181\n",
      "\n",
      "Com heurística:\n",
      "1 2 3 4 5 6 7 8 9 10 \n",
      "2 1 4 3 6 5 8 7 10 9 \n",
      "3 4 1 2 7 8 9 10 5 6 \n",
      "4 3 2 1 8 7 10 9 6 5 \n",
      "5 6 7 8 9 10 4 1 2 3 \n",
      "6 5 8 7 10 9 1 3 4 2 \n",
      "7 8 9 10 3 2 5 6 1 4 \n",
      "8 7 10 9 2 4 6 5 3 1 \n",
      "9 10 6 5 4 1 3 2 7 8 \n",
      "10 9 5 6 1 3 2 4 8 7 \n",
      "0.0046741999999539985\n"
     ]
    }
   ],
   "source": [
    "import timeit\n",
    "\n",
    "#tls_ac3 = AC3(tls) \n",
    "\n",
    "# Sem inferência\n",
    "\n",
    "start = timeit.default_timer()\n",
    "ls_no_inference = backtracking_search(tls)\n",
    "stop = timeit.default_timer()\n",
    "time = stop-start\n",
    "\n",
    "print(\"Sem inferência:\")\n",
    "display(10, ls_no_inference)\n",
    "print(time)\n",
    "\n",
    "# Com inferência Forward-Checking\n",
    "\n",
    "start = timeit.default_timer()\n",
    "ls_fc = backtracking_search(tls, inference=forward_checking)\n",
    "stop = timeit.default_timer()\n",
    "time = stop-start\n",
    "\n",
    "print(\"\\nCom inferência forward-checking:\")\n",
    "display(10, ls_fc)\n",
    "print(time)\n",
    "\n",
    "# Com inferência MAC\n",
    "\n",
    "start = timeit.default_timer()\n",
    "ls_mac = backtracking_search(tls, inference=mac)\n",
    "stop = timeit.default_timer()\n",
    "time = stop-start\n",
    "\n",
    "print(\"\\nCom inferência MAC:\")\n",
    "display(10, ls_mac)\n",
    "print(time)\n",
    "\n",
    "# Heurística\n",
    "\n",
    "start = timeit.default_timer()\n",
    "ls_heu = backtracking_search(tls, select_unassigned_variable=mrv)\n",
    "stop = timeit.default_timer()\n",
    "time = stop-start\n",
    "\n",
    "print(\"\\nCom heurística:\")\n",
    "display(10, ls_heu)\n",
    "print(time)"
   ]
  },
  {
   "cell_type": "markdown",
   "metadata": {},
   "source": [
    "<hr>"
   ]
  },
  {
   "cell_type": "markdown",
   "id": "14a095c8",
   "metadata": {},
   "source": [
    "## Futoshiki\n",
    "\n",
    "### Representação de variáveis, domínios, vizinhos e restrições\n",
    "\n",
    "#### Variáveis\n",
    "\n",
    "#### Domínios\n",
    "\n",
    "#### Restrições\n",
    "\n",
    "### Formulação do Problema"
   ]
  },
  {
   "cell_type": "code",
   "execution_count": 59,
   "id": "06577d27",
   "metadata": {},
   "outputs": [],
   "source": [
    "def gt(a,b):\n",
    "    return a > b\n",
    "\n",
    "def lt(a,b):\n",
    "    return a < b\n",
    "\n",
    "def diff(a,b):\n",
    "    return a != b\n",
    "\n",
    "def futoshiki(dim, numbers={}, neqs=[]):\n",
    "    variables = [(x,y) for x in range(1,dim+1) for y in range(1,dim+1)]\n",
    "\n",
    "    domains = {v:list(range(1,dim+1)) for v in variables}\n",
    "\n",
    "    for cell,value in numbers.items():\n",
    "        if value > dim:\n",
    "            raise 'Erro: valor atribuído inválido'\n",
    "        else:\n",
    "            domains[cell] = [value]\n",
    "\n",
    "    neighbors = {v:grid_neighbors(v, variables) for v in variables}\n",
    "\n",
    "    def constraints(X, a, Y, b):\n",
    "\n",
    "        constraints = {}\n",
    "\n",
    "        for neq in neqs:\n",
    "            c1, c2 = neq[0], neq[1]\n",
    "            constraints[(c1,c2)] = gt\n",
    "            constraints[(c2,c1)] = lt\n",
    "\n",
    "        if X in variables and Y in variables and (X,Y) not in constraints.keys():\n",
    "            constraints[(X,Y)] = diff\n",
    "    \n",
    "        return constraints[(X,Y)](a,b)\n",
    "    \n",
    "    return CSP(variables, domains, neighbors, constraints)"
   ]
  },
  {
   "cell_type": "markdown",
   "metadata": {},
   "source": [
    "### Visualização do problema (?)"
   ]
  },
  {
   "cell_type": "code",
   "execution_count": 58,
   "metadata": {},
   "outputs": [],
   "source": [
    "def list_coords(tuple):\n",
    "    x, y = tuple[0], tuple[1]\n",
    "    return ((x-1)*2, (y-1)*2)\n",
    "\n",
    "def neq_placement(x1, y1, x2, y2):\n",
    "    '''Returns the appropriate symbol to show in the output \n",
    "    along with the list coordinates (xs, ys) where it should be put.'''\n",
    "    if x1 == x2:\n",
    "        xs = x1\n",
    "        ys = (y1 + y2) / 2\n",
    "        \n",
    "        if y1 > y2:\n",
    "            symbol = '^'\n",
    "        else: symbol = 'V'\n",
    "    \n",
    "    else: # y1 == y2\n",
    "        xs = (x1 + x2) / 2\n",
    "        ys = y1\n",
    "\n",
    "        if x1 > x2:\n",
    "            symbol = ' < '\n",
    "        else: symbol = ' > '\n",
    "    return (symbol, int(xs), int(ys))\n",
    "\n",
    "def board_to_list(dim, board):\n",
    "    board = force_ordered_board(dim, board)\n",
    "    line_list = [[] for i in range(2*dim)]\n",
    "    empty_line = ['   ' for i in range(2*dim-1)] # ['   ', '   ', ...]\n",
    "\n",
    "    current_line = 0\n",
    "\n",
    "    for line in line_list:\n",
    "        row_from_line = current_line / 2 + 1\n",
    "\n",
    "        if current_line % 2 == 0: # even line\n",
    "            for cell,value in board.items():\n",
    "                cell_row = cell[1]\n",
    "\n",
    "                if cell_row == row_from_line:\n",
    "                    line_list[current_line].append(str(value))\n",
    "                    line_list[current_line].append('   ')\n",
    "            line_list[current_line].pop() # remove last element, which is an empty space\n",
    "            current_line += 1\n",
    "\n",
    "        else: # odd line, must be empty\n",
    "            line_list[current_line] = empty_line.copy() \n",
    "            current_line += 1\n",
    "\n",
    "    line_list.pop() # remove last line, which is an empty line\n",
    "    return line_list\n",
    "\n",
    "def futoshiki_output(dim, board, neqs):\n",
    "\n",
    "    line_list = board_to_list(dim, board)\n",
    "\n",
    "    # Insert neqs\n",
    "    for neq in neqs:\n",
    "        c1, c2 = neq[0], neq[1]\n",
    "        x1, y1 = list_coords(c1)\n",
    "        x2, y2 = list_coords(c2)\n",
    "\n",
    "        symbol, xs, ys = neq_placement(x1, y1, x2, y2)\n",
    "        line_list[ys][xs] = symbol\n",
    "\n",
    "    # Output\n",
    "    for line in line_list:\n",
    "        line_output = ''\n",
    "        for char in line:\n",
    "            line_output += char\n",
    "        print(line_output)"
   ]
  },
  {
   "cell_type": "markdown",
   "metadata": {},
   "source": [
    "### Instâncias e Testes\n",
    "\n",
    "Mostrem que o código está a funcionar, construindo um problema de Futoshiki *5x5*, imprimindo as variáveis, domínios iniciais, e vizinhos. Adicione os comentários necessários. Utilize o [link](https://www.futoshiki.org/) para gerar puzzles e validar a implementação."
   ]
  },
  {
   "cell_type": "code",
   "execution_count": 57,
   "metadata": {},
   "outputs": [
    {
     "name": "stdout",
     "output_type": "stream",
     "text": [
      "Sem inferência:\n",
      "\n",
      "5 > 1   2   3   4\n",
      "V                        \n",
      "2   5   4   1   3\n",
      "^                        \n",
      "3   4   1   2   5\n",
      "                           \n",
      "1   3   5   4   2\n",
      "                           \n",
      "4   2   3   5   1\n",
      "\n",
      "0.06844099999989339\n"
     ]
    }
   ],
   "source": [
    "# código \n",
    "\n",
    "tls = futoshiki(5, numbers={(3,2):4}, neqs=[((1,1),(1,2)),((1,1),(2,1)),((1,3),(1,2))])\n",
    "\n",
    "start = timeit.default_timer()\n",
    "ls_no_inference = backtracking_search(tls, select_unassigned_variable=mrv)\n",
    "stop = timeit.default_timer()\n",
    "time = stop-start\n",
    "\n",
    "print(\"Sem inferência:\\n\")\n",
    "display(5, ls_no_inference, [((1,1),(1,2)),((1,1),(2,1)),((1,3),(1,2))])\n",
    "print()\n",
    "print(time)\n"
   ]
  },
  {
   "cell_type": "markdown",
   "metadata": {},
   "source": [
    "Resolva o problema com o backtracking sem inferencia, com inferencia, e com uma heurística. Até que dimensão consegue resolver o problema em menos de 1 minuto?"
   ]
  },
  {
   "cell_type": "markdown",
   "metadata": {},
   "source": [
    "Teste 3 - Com inferência MAC\n"
   ]
  },
  {
   "cell_type": "code",
   "execution_count": 98,
   "metadata": {},
   "outputs": [
    {
     "name": "stdout",
     "output_type": "stream",
     "text": [
      "\n",
      "Com inferência MAC:\n",
      "2 > 1   3   4   5   6   7\n",
      "V                                    \n",
      "1   2   4   3   6   5   8\n",
      "^                                    \n",
      "3   4   1   2   7   8   5\n",
      "                                       \n",
      "4   3   2   1   8   7   6\n",
      "                                       \n",
      "5   6   7   8   9   10   11\n",
      "                                       \n",
      "6   5   8   7   10   12   9\n",
      "                                       \n",
      "7   8   5   6   12   11   10\n",
      "37.26268540000001\n"
     ]
    }
   ],
   "source": [
    "# Com inferência MAC\n",
    "neqs = [((1, 1), (1, 2)),\n",
    "        ((1, 1), (2, 1)), \n",
    "        ((1, 3), (1, 2))]\n",
    "tls = futoshiki(12, numbers={(3, 2): 4}, neqs=neqs)\n",
    "\n",
    "start = timeit.default_timer()\n",
    "ls_mac = backtracking_search(tls, inference=mac)\n",
    "stop = timeit.default_timer()\n",
    "time = stop-start\n",
    "\n",
    "print(\"\\nCom inferência MAC:\")\n",
    "display(7, ls_mac, neqs = neqs)\n",
    "print(time)\n"
   ]
  },
  {
   "cell_type": "markdown",
   "metadata": {},
   "source": [
    "Apartir de \"dim = 12\" o tempo supera o 1 minuto:\n"
   ]
  },
  {
   "cell_type": "code",
   "execution_count": 104,
   "metadata": {},
   "outputs": [
    {
     "name": "stdout",
     "output_type": "stream",
     "text": [
      "\n",
      "Com inferência MAC:\n",
      "2 > 1   3   4   5   6   7   8   9   10   11   12\n",
      "V                                                                  \n",
      "1   2   4   3   6   5   8   7   10   9   12   11\n",
      "^                                                                  \n",
      "3   4   1   2   7   8   5   6   11   12   9   10\n",
      "                                                                     \n",
      "4   3   2   1   8   7   6   5   12   11   10   9\n",
      "                                                                     \n",
      "5   6   7   8   9   10   11   12   1   2   3   4\n",
      "                                                                     \n",
      "6   5   8   7   10   12   9   11   3   1   4   2\n",
      "                                                                     \n",
      "7   8   5   6   12   11   10   9   2   4   1   3\n",
      "                                                                     \n",
      "8   7   6   5   11   9   12   10   4   3   2   1\n",
      "                                                                     \n",
      "9   10   11   12   3   4   1   2   5   6   7   8\n",
      "                                                                     \n",
      "10   9   12   11   4   3   2   1   6   5   8   7\n",
      "                                                                     \n",
      "11   12   9   10   2   1   4   3   7   8   5   6\n",
      "                                                                     \n",
      "12   11   10   9   1   2   3   4   8   7   6   5\n",
      "37.42845000000034\n"
     ]
    }
   ],
   "source": [
    "# Com inferência MAC\n",
    "\n",
    "neqs = [((1, 1), (1, 2)),\n",
    "        ((1, 1), (2, 1)),\n",
    "        ((1, 3), (1, 2))]\n",
    "tls = futoshiki(12, numbers={(3, 2): 4}, neqs=neqs)\n",
    "\n",
    "start = timeit.default_timer()\n",
    "ls_mac = backtracking_search(tls, inference=mac)\n",
    "stop = timeit.default_timer()\n",
    "time = stop-start\n",
    "\n",
    "print(\"\\nCom inferência MAC:\")\n",
    "display(12, ls_mac, neqs = neqs)\n",
    "print(time)\n"
   ]
  },
  {
   "cell_type": "markdown",
   "metadata": {},
   "source": [
    "Teste 4 - Com Heuristica"
   ]
  },
  {
   "cell_type": "code",
   "execution_count": 111,
   "metadata": {},
   "outputs": [
    {
     "name": "stdout",
     "output_type": "stream",
     "text": [
      "Com heurística:\n",
      "5 > 3   2   4   1\n",
      "V                        \n",
      "1   5   4   3   2\n",
      "^                        \n",
      "2   4   1   5   3\n",
      "                           \n",
      "4   2   3   1   5\n",
      "                           \n",
      "3   1   5   2   4\n",
      "0.007128199999897333\n"
     ]
    }
   ],
   "source": [
    "# Heurística\n",
    "\n",
    "neqs = [((1, 1), (1, 2)),\n",
    "        ((1, 1), (2, 1)),\n",
    "        ((1, 3), (1, 2))]\n",
    "tls = futoshiki(5, numbers={(3, 2): 4}, neqs=neqs)\n",
    "\n",
    "start = timeit.default_timer()\n",
    "ls_heu = backtracking_search(tls, select_unassigned_variable=mrv)\n",
    "stop = timeit.default_timer()\n",
    "time = stop-start\n",
    "\n",
    "print(\"Com heurística:\")\n",
    "display(5, ls_heu, neqs=neqs)\n",
    "print(time)\n"
   ]
  },
  {
   "cell_type": "markdown",
   "metadata": {},
   "source": [
    "A partir de \"dim = 8\" o tempo supera o 1 minuto."
   ]
  },
  {
   "cell_type": "code",
   "execution_count": 124,
   "metadata": {},
   "outputs": [
    {
     "name": "stdout",
     "output_type": "stream",
     "text": [
      "Com heurística:\n",
      "5 > 3   6   4   2   8   7   1\n",
      "V                                          \n",
      "1   8   4   7   3   2   6   5\n",
      "^                                          \n",
      "7   6   2   1   4   3   5   8\n",
      "                                             \n",
      "8   4   7   2   5   1   3   6\n",
      "                                             \n",
      "6   1   8   5   7   4   2   3\n",
      "                                             \n",
      "4   2   5   3   1   6   8   7\n",
      "                                             \n",
      "3   5   1   6   8   7   4   2\n",
      "                                             \n",
      "2   7   3   8   6   5   1   4\n",
      "38.41151449999961\n"
     ]
    }
   ],
   "source": [
    "# Heurística\n",
    "\n",
    "neqs = [((1, 1), (1, 2)),\n",
    "        ((1, 1), (2, 1)),\n",
    "        ((1, 3), (1, 2))]\n",
    "tls = futoshiki(8, numbers={(3, 2): 4}, neqs=neqs)\n",
    "\n",
    "start = timeit.default_timer()\n",
    "ls_heu = backtracking_search(tls, select_unassigned_variable=mrv)\n",
    "stop = timeit.default_timer()\n",
    "time = stop-start\n",
    "\n",
    "print(\"Com heurística:\")\n",
    "display(8, ls_heu, neqs=neqs)\n",
    "print(time)\n"
   ]
  },
  {
   "cell_type": "code",
   "execution_count": 55,
   "metadata": {},
   "outputs": [
    {
     "name": "stdout",
     "output_type": "stream",
     "text": [
      "Dominios: {(1, 1): [1, 2, 3, 4, 5], (1, 2): [1, 2, 3, 4, 5], (1, 3): [1, 2, 3, 4, 5], (1, 4): [1, 2, 3, 4, 5], (1, 5): [1, 2, 3, 4, 5], (2, 1): [1, 2, 3, 4, 5], (2, 2): [1, 2, 3, 4, 5], (2, 3): [1, 2, 3, 4, 5], (2, 4): [1, 2, 3, 4, 5], (2, 5): [1, 2, 3, 4, 5], (3, 1): [1, 2, 3, 4, 5], (3, 2): [4], (3, 3): [1, 2, 3, 4, 5], (3, 4): [1, 2, 3, 4, 5], (3, 5): [1, 2, 3, 4, 5], (4, 1): [1, 2, 3, 4, 5], (4, 2): [1, 2, 3, 4, 5], (4, 3): [1, 2, 3, 4, 5], (4, 4): [1, 2, 3, 4, 5], (4, 5): [1, 2, 3, 4, 5], (5, 1): [1, 2, 3, 4, 5], (5, 2): [1, 2, 3, 4, 5], (5, 3): [1, 2, 3, 4, 5], (5, 4): [1, 2, 3, 4, 5], (5, 5): [1, 2, 3, 4, 5]}\n",
      "\n",
      "Variaveis: [(1, 1), (1, 2), (1, 3), (1, 4), (1, 5), (2, 1), (2, 2), (2, 3), (2, 4), (2, 5), (3, 1), (3, 2), (3, 3), (3, 4), (3, 5), (4, 1), (4, 2), (4, 3), (4, 4), (4, 5), (5, 1), (5, 2), (5, 3), (5, 4), (5, 5)]\n",
      "\n",
      "Vizinhos: {(1, 1): [(1, 2), (1, 3), (1, 4), (1, 5), (2, 1), (3, 1), (4, 1), (5, 1)], (1, 2): [(1, 1), (1, 3), (1, 4), (1, 5), (2, 2), (3, 2), (4, 2), (5, 2)], (1, 3): [(1, 1), (1, 2), (1, 4), (1, 5), (2, 3), (3, 3), (4, 3), (5, 3)], (1, 4): [(1, 1), (1, 2), (1, 3), (1, 5), (2, 4), (3, 4), (4, 4), (5, 4)], (1, 5): [(1, 1), (1, 2), (1, 3), (1, 4), (2, 5), (3, 5), (4, 5), (5, 5)], (2, 1): [(1, 1), (2, 2), (2, 3), (2, 4), (2, 5), (3, 1), (4, 1), (5, 1)], (2, 2): [(1, 2), (2, 1), (2, 3), (2, 4), (2, 5), (3, 2), (4, 2), (5, 2)], (2, 3): [(1, 3), (2, 1), (2, 2), (2, 4), (2, 5), (3, 3), (4, 3), (5, 3)], (2, 4): [(1, 4), (2, 1), (2, 2), (2, 3), (2, 5), (3, 4), (4, 4), (5, 4)], (2, 5): [(1, 5), (2, 1), (2, 2), (2, 3), (2, 4), (3, 5), (4, 5), (5, 5)], (3, 1): [(1, 1), (2, 1), (3, 2), (3, 3), (3, 4), (3, 5), (4, 1), (5, 1)], (3, 2): [(1, 2), (2, 2), (3, 1), (3, 3), (3, 4), (3, 5), (4, 2), (5, 2)], (3, 3): [(1, 3), (2, 3), (3, 1), (3, 2), (3, 4), (3, 5), (4, 3), (5, 3)], (3, 4): [(1, 4), (2, 4), (3, 1), (3, 2), (3, 3), (3, 5), (4, 4), (5, 4)], (3, 5): [(1, 5), (2, 5), (3, 1), (3, 2), (3, 3), (3, 4), (4, 5), (5, 5)], (4, 1): [(1, 1), (2, 1), (3, 1), (4, 2), (4, 3), (4, 4), (4, 5), (5, 1)], (4, 2): [(1, 2), (2, 2), (3, 2), (4, 1), (4, 3), (4, 4), (4, 5), (5, 2)], (4, 3): [(1, 3), (2, 3), (3, 3), (4, 1), (4, 2), (4, 4), (4, 5), (5, 3)], (4, 4): [(1, 4), (2, 4), (3, 4), (4, 1), (4, 2), (4, 3), (4, 5), (5, 4)], (4, 5): [(1, 5), (2, 5), (3, 5), (4, 1), (4, 2), (4, 3), (4, 4), (5, 5)], (5, 1): [(1, 1), (2, 1), (3, 1), (4, 1), (5, 2), (5, 3), (5, 4), (5, 5)], (5, 2): [(1, 2), (2, 2), (3, 2), (4, 2), (5, 1), (5, 3), (5, 4), (5, 5)], (5, 3): [(1, 3), (2, 3), (3, 3), (4, 3), (5, 1), (5, 2), (5, 4), (5, 5)], (5, 4): [(1, 4), (2, 4), (3, 4), (4, 4), (5, 1), (5, 2), (5, 3), (5, 5)], (5, 5): [(1, 5), (2, 5), (3, 5), (4, 5), (5, 1), (5, 2), (5, 3), (5, 4)]}\n"
     ]
    }
   ],
   "source": [
    "print(\"Dominios:\", tls.domains)\n",
    "print()\n",
    "print(\"Variaveis:\", tls.variables)\n",
    "print()\n",
    "print(\"Vizinhos:\", tls.neighbors)"
   ]
  },
  {
   "cell_type": "code",
   "execution_count": null,
   "metadata": {},
   "outputs": [],
   "source": []
  }
 ],
 "metadata": {
  "interpreter": {
   "hash": "cc7436e339fb98a79d349a4b39e7546d0317772cabf469fe9b68837ca1e48e7d"
  },
  "kernelspec": {
   "display_name": "Python 3.9.7 ('base')",
   "language": "python",
   "name": "python3"
  },
  "language_info": {
   "codemirror_mode": {
    "name": "ipython",
    "version": 3
   },
   "file_extension": ".py",
   "mimetype": "text/x-python",
   "name": "python",
   "nbconvert_exporter": "python",
   "pygments_lexer": "ipython3",
   "version": "3.8.8"
  },
  "orig_nbformat": 4
 },
 "nbformat": 4,
 "nbformat_minor": 2
}
