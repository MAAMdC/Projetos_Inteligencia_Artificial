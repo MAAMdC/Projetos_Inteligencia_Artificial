{
 "cells": [
  {
   "cell_type": "markdown",
   "id": "bf9c87b1",
   "metadata": {},
   "source": [
    "# Sistemas Inteligentes 2021/2022\n",
    "\n",
    "## Mini-projeto 2: Quadrados Latinos\n"
   ]
  },
  {
   "cell_type": "markdown",
   "id": "d7b8efca",
   "metadata": {},
   "source": [
    "## Grupo: 08\n",
    "\n",
    "### Elementos do Grupo\n",
    "\n",
    "Número: 54329   Nome: David da Costa Correia    \n",
    "Número: 56906   Nome: Miguel Castro  \n",
    "Número: 56922   Nome: João Leal"
   ]
  },
  {
   "cell_type": "markdown",
   "metadata": {},
   "source": [
    "<hr>"
   ]
  },
  {
   "cell_type": "markdown",
   "id": "4ab69211",
   "metadata": {},
   "source": [
    "## Quadrados Latinos\n",
    "\n",
    "### Representação de variáveis, domínios, vizinhos e restrições\n",
    "\n",
    "#### Variáveis\n",
    "As nossas variáveis são coordenadas que correspondem às células do quadrado latino. Variam de `(1,1)` até `(dim,dim)`.\n",
    "#### Domínios\n",
    "A cada variável corresponde um domínio `[1, ..., dim]`.\n",
    "#### Vizinhos e Restrições\n",
    "O dicionário `neighbors`, contém os vizinhos de uma célula, ou seja, todas as células que estejam na mesma linha ou na mesma coluna. Ao chamar a função `constraints` pretende-se ter a certeza se todos os vizinhos são diferentes da célula em foco.\n",
    "### Formulação do Problema"
   ]
  },
  {
   "cell_type": "code",
   "execution_count": 137,
   "id": "c5327f4f",
   "metadata": {},
   "outputs": [],
   "source": [
    "def grid_neighbors(cell, grid):\n",
    "    '''Returns the grid neighbors of a cell, i.e. all the cells \n",
    "    that share a row or column with the given cell.'''\n",
    "    x, y = cell[0], cell[1]\n",
    "    return [cel for cel in grid if ((cel[0] == x) or (cel[1] == y)) and (cel != cell)]\n",
    "\n",
    "from csp import *\n",
    "\n",
    "def latin_square(dim, numbers={}):\n",
    "\n",
    "    variables = [(x,y) for x in range(1,dim+1) for y in range(1,dim+1)]\n",
    "\n",
    "    domains = {v:list(range(1,dim+1)) for v in variables}\n",
    "\n",
    "    for cell,value in numbers.items():\n",
    "        if value > dim:\n",
    "            raise 'Erro: valor atribuído inválido'\n",
    "        else:\n",
    "            domains[cell] = [value]\n",
    "\n",
    "    neighbors = {v:grid_neighbors(v, variables) for v in variables}\n",
    "\n",
    "    def constraints(X, a, Y, b):\n",
    "        return a != b\n",
    "    \n",
    "    return CSP(variables, domains, neighbors, constraints)"
   ]
  },
  {
   "cell_type": "markdown",
   "metadata": {},
   "source": [
    "### Visualização do problema"
   ]
  },
  {
   "cell_type": "code",
   "execution_count": 138,
   "metadata": {},
   "outputs": [],
   "source": [
    "def force_ordered_board(dim, board):\n",
    "    '''Forces the natural order of elements in the board.\n",
    "    Example: {(1,1):N, (2,1):N, ... (i,j):N}'''\n",
    "    template = [(x,y) for y in range(1,dim+1) for x in range(1,dim+1)] # [(1,1), (2,1), ...]\n",
    "    return {cell:board[cell] for cell in template}\n",
    "\n",
    "def latin_square_output(dim, board):\n",
    "    '''Prints a latin square board.'''\n",
    "    board = force_ordered_board(dim, board)\n",
    "    i = 0\n",
    "    output = ''\n",
    "    for value in board.values():\n",
    "        if i < dim: # the output must be as long as dim\n",
    "            output = output + str(value) + ' '\n",
    "            i += 1\n",
    "        else: # print output row and start a new one\n",
    "            print(output)\n",
    "            output = str(value) + ' '\n",
    "            i = 1\n",
    "    print(output) # print the last row\n",
    "\n",
    "def display(dim, board, neqs=None):\n",
    "    '''Displays a latin square or futoshiki board \n",
    "    wheter neqs is not given or given, respectively.\n",
    "    It also can display either unsolved or solved problems.'''\n",
    "    if isinstance(board, dict): # solved problem\n",
    "        if not neqs:\n",
    "            latin_square_output(dim, board)\n",
    "        else: futoshiki_output(dim, board, neqs)\n",
    "    else: # unsolved problem\n",
    "        board = board.domains.copy()\n",
    "\n",
    "        for cell,domain in board.items():\n",
    "            if len(domain) > 1: # i.e. there were no pre-existing given numbers \n",
    "                board[cell] = '-'\n",
    "            else:\n",
    "                board[cell] = domain[0] # domain[0] is the pre-existing given number\n",
    "\n",
    "        if not neqs:\n",
    "            latin_square_output(dim, board)\n",
    "        else: futoshiki_output(dim, board, neqs)"
   ]
  },
  {
   "cell_type": "markdown",
   "id": "f46b1688",
   "metadata": {},
   "source": [
    "### Instâncias e Testes"
   ]
  },
  {
   "cell_type": "code",
   "execution_count": 139,
   "id": "316877ac",
   "metadata": {},
   "outputs": [
    {
     "name": "stdout",
     "output_type": "stream",
     "text": [
      "Quadrado Inicial Vazio\n",
      "\n",
      "- - - - \n",
      "- - - - \n",
      "- - - - \n",
      "- - - - \n",
      "\n",
      "Variáveis Iniciais\n",
      "\n",
      "[(1, 1), (1, 2), (1, 3), (1, 4), (2, 1), (2, 2), (2, 3), (2, 4), (3, 1), (3, 2), (3, 3), (3, 4), (4, 1), (4, 2), (4, 3), (4, 4)]\n",
      "\n",
      "Domínios Iniciais\n",
      "\n",
      "{(1, 1): [1, 2, 3, 4], (1, 2): [1, 2, 3, 4], (1, 3): [1, 2, 3, 4], (1, 4): [1, 2, 3, 4], (2, 1): [1, 2, 3, 4], (2, 2): [1, 2, 3, 4], (2, 3): [1, 2, 3, 4], (2, 4): [1, 2, 3, 4], (3, 1): [1, 2, 3, 4], (3, 2): [1, 2, 3, 4], (3, 3): [1, 2, 3, 4], (3, 4): [1, 2, 3, 4], (4, 1): [1, 2, 3, 4], (4, 2): [1, 2, 3, 4], (4, 3): [1, 2, 3, 4], (4, 4): [1, 2, 3, 4]}\n",
      "\n",
      "Vizinhos Iniciais\n",
      "\n",
      "{(1, 1): [(1, 2), (1, 3), (1, 4), (2, 1), (3, 1), (4, 1)], (1, 2): [(1, 1), (1, 3), (1, 4), (2, 2), (3, 2), (4, 2)], (1, 3): [(1, 1), (1, 2), (1, 4), (2, 3), (3, 3), (4, 3)], (1, 4): [(1, 1), (1, 2), (1, 3), (2, 4), (3, 4), (4, 4)], (2, 1): [(1, 1), (2, 2), (2, 3), (2, 4), (3, 1), (4, 1)], (2, 2): [(1, 2), (2, 1), (2, 3), (2, 4), (3, 2), (4, 2)], (2, 3): [(1, 3), (2, 1), (2, 2), (2, 4), (3, 3), (4, 3)], (2, 4): [(1, 4), (2, 1), (2, 2), (2, 3), (3, 4), (4, 4)], (3, 1): [(1, 1), (2, 1), (3, 2), (3, 3), (3, 4), (4, 1)], (3, 2): [(1, 2), (2, 2), (3, 1), (3, 3), (3, 4), (4, 2)], (3, 3): [(1, 3), (2, 3), (3, 1), (3, 2), (3, 4), (4, 3)], (3, 4): [(1, 4), (2, 4), (3, 1), (3, 2), (3, 3), (4, 4)], (4, 1): [(1, 1), (2, 1), (3, 1), (4, 2), (4, 3), (4, 4)], (4, 2): [(1, 2), (2, 2), (3, 2), (4, 1), (4, 3), (4, 4)], (4, 3): [(1, 3), (2, 3), (3, 3), (4, 1), (4, 2), (4, 4)], (4, 4): [(1, 4), (2, 4), (3, 4), (4, 1), (4, 2), (4, 3)]}\n"
     ]
    }
   ],
   "source": [
    "ls_vazio = latin_square(4) #definição da dimensão do quadrado latino\n",
    "\n",
    "print(\"Quadrado Inicial Vazio\\n\")\n",
    "display(4, ls_vazio) #display do quadrado inicial\n",
    "\n",
    "print(\"\\nVariáveis Iniciais\\n\")\n",
    "print(ls_vazio.variables) #variáveis iniciais\n",
    "\n",
    "print(\"\\nDomínios Iniciais\\n\")\n",
    "print(ls_vazio.domains) #domínios iniciais\n",
    "\n",
    "print(\"\\nVizinhos Iniciais\\n\")\n",
    "print(ls_vazio.neighbors) #vizinos"
   ]
  },
  {
   "cell_type": "markdown",
   "metadata": {},
   "source": [
    "#### Instância com células pré-preenchidas\n",
    "\n",
    "Para criar uma instância com células pré-preenchidas, fornece-se no argumento `numbers`, um dicionário da forma `{(xn,yn):N, ...}` contendo as células, (xn,yn) para as quais se quer um valor pré-definido `N`.\n",
    "\n",
    "Como se pode observar, apenas os domínios são afetados na medida que, para as células pré-preenchidas, o domínio corresponde apenas ao valor definido."
   ]
  },
  {
   "cell_type": "code",
   "execution_count": 140,
   "metadata": {},
   "outputs": [
    {
     "name": "stdout",
     "output_type": "stream",
     "text": [
      "Quadrado Semi Preenchido\n",
      "\n",
      "Quadrado Inicial\n",
      "\n",
      "3 1 - - \n",
      "- - - 1 \n",
      "- - - - \n",
      "- 2 - - \n",
      "\n",
      "Variáveis Iniciais\n",
      "\n",
      "[(1, 1), (1, 2), (1, 3), (1, 4), (2, 1), (2, 2), (2, 3), (2, 4), (3, 1), (3, 2), (3, 3), (3, 4), (4, 1), (4, 2), (4, 3), (4, 4)]\n",
      "\n",
      "Domínios Iniciais\n",
      "\n",
      "{(1, 1): [3], (1, 2): [1, 2, 3, 4], (1, 3): [1, 2, 3, 4], (1, 4): [1, 2, 3, 4], (2, 1): [1], (2, 2): [1, 2, 3, 4], (2, 3): [1, 2, 3, 4], (2, 4): [2], (3, 1): [1, 2, 3, 4], (3, 2): [1, 2, 3, 4], (3, 3): [1, 2, 3, 4], (3, 4): [1, 2, 3, 4], (4, 1): [1, 2, 3, 4], (4, 2): [1], (4, 3): [1, 2, 3, 4], (4, 4): [1, 2, 3, 4]}\n",
      "\n",
      "Vizinhos Iniciais\n",
      "\n",
      "{(1, 1): [(1, 2), (1, 3), (1, 4), (2, 1), (3, 1), (4, 1)], (1, 2): [(1, 1), (1, 3), (1, 4), (2, 2), (3, 2), (4, 2)], (1, 3): [(1, 1), (1, 2), (1, 4), (2, 3), (3, 3), (4, 3)], (1, 4): [(1, 1), (1, 2), (1, 3), (2, 4), (3, 4), (4, 4)], (2, 1): [(1, 1), (2, 2), (2, 3), (2, 4), (3, 1), (4, 1)], (2, 2): [(1, 2), (2, 1), (2, 3), (2, 4), (3, 2), (4, 2)], (2, 3): [(1, 3), (2, 1), (2, 2), (2, 4), (3, 3), (4, 3)], (2, 4): [(1, 4), (2, 1), (2, 2), (2, 3), (3, 4), (4, 4)], (3, 1): [(1, 1), (2, 1), (3, 2), (3, 3), (3, 4), (4, 1)], (3, 2): [(1, 2), (2, 2), (3, 1), (3, 3), (3, 4), (4, 2)], (3, 3): [(1, 3), (2, 3), (3, 1), (3, 2), (3, 4), (4, 3)], (3, 4): [(1, 4), (2, 4), (3, 1), (3, 2), (3, 3), (4, 4)], (4, 1): [(1, 1), (2, 1), (3, 1), (4, 2), (4, 3), (4, 4)], (4, 2): [(1, 2), (2, 2), (3, 2), (4, 1), (4, 3), (4, 4)], (4, 3): [(1, 3), (2, 3), (3, 3), (4, 1), (4, 2), (4, 4)], (4, 4): [(1, 4), (2, 4), (3, 4), (4, 1), (4, 2), (4, 3)]}\n"
     ]
    }
   ],
   "source": [
    "print(\"Quadrado Semi Preenchido\\n\")\n",
    "\n",
    "ls_filled = latin_square(4, {(1,1): 3, (2,1): 1, (2,4): 2, (4,2): 1}) # definição da dimensão do quadrado latino e dos números que se pretende colocar\n",
    "\n",
    "print(\"Quadrado Inicial\\n\")\n",
    "display(4, ls_filled) #display do quadrado inicial\n",
    "\n",
    "print(\"\\nVariáveis Iniciais\\n\")\n",
    "print(ls_filled.variables) #variáveis iniciais\n",
    "\n",
    "print(\"\\nDomínios Iniciais\\n\")\n",
    "print(ls_filled.domains) #domínios iniciais\n",
    "\n",
    "print(\"\\nVizinhos Iniciais\\n\")\n",
    "print(ls_filled.neighbors) #vizinos\n"
   ]
  },
  {
   "cell_type": "markdown",
   "metadata": {},
   "source": [
    "#### Testes"
   ]
  },
  {
   "cell_type": "code",
   "execution_count": 141,
   "metadata": {},
   "outputs": [
    {
     "name": "stdout",
     "output_type": "stream",
     "text": [
      "Sem inferência:\n",
      "1 2 3 4 5 6 7 8 9 10 \n",
      "2 1 4 3 6 5 8 7 10 9 \n",
      "3 4 1 2 7 8 9 10 5 6 \n",
      "4 3 2 1 8 7 10 9 6 5 \n",
      "5 6 7 8 9 10 4 1 2 3 \n",
      "6 5 8 7 10 9 1 3 4 2 \n",
      "7 8 9 10 3 2 5 6 1 4 \n",
      "8 7 10 9 2 4 6 5 3 1 \n",
      "9 10 6 5 4 1 3 2 7 8 \n",
      "10 9 5 6 1 3 2 4 8 7 \n",
      "0.15658149999944726\n",
      "\n",
      "Com inferência forward-checking:\n",
      "1 2 3 4 5 6 7 8 9 10 \n",
      "2 1 4 3 6 5 8 7 10 9 \n",
      "3 4 1 2 7 8 9 10 5 6 \n",
      "4 3 2 1 8 7 10 9 6 5 \n",
      "5 6 7 8 9 10 4 1 2 3 \n",
      "6 5 8 7 10 9 1 3 4 2 \n",
      "7 8 9 10 3 2 5 6 1 4 \n",
      "8 7 10 9 2 4 6 5 3 1 \n",
      "9 10 6 5 4 1 3 2 7 8 \n",
      "10 9 5 6 1 3 2 4 8 7 \n",
      "0.005202500000450527\n",
      "\n",
      "Com inferência MAC:\n",
      "1 2 3 4 5 6 7 8 9 10 \n",
      "2 1 4 3 6 5 8 7 10 9 \n",
      "3 4 1 2 7 8 9 10 5 6 \n",
      "4 3 2 1 8 7 10 9 6 5 \n",
      "5 6 7 8 9 10 4 1 2 3 \n",
      "6 5 8 7 10 9 1 3 4 2 \n",
      "7 8 9 10 3 2 5 6 1 4 \n",
      "8 7 10 9 2 4 6 5 3 1 \n",
      "9 10 6 5 4 1 3 2 7 8 \n",
      "10 9 5 6 1 3 2 4 8 7 \n",
      "0.007704600000579376\n",
      "\n",
      "Com heurística:\n",
      "1 2 3 4 5 6 7 8 9 10 \n",
      "2 1 4 3 6 5 8 7 10 9 \n",
      "3 4 1 2 7 8 9 10 5 6 \n",
      "4 3 2 1 8 7 10 9 6 5 \n",
      "5 6 7 8 9 10 4 1 2 3 \n",
      "6 5 8 7 10 9 1 3 4 2 \n",
      "7 8 9 10 3 2 5 6 1 4 \n",
      "8 7 10 9 2 4 6 5 3 1 \n",
      "9 10 6 5 4 1 3 2 7 8 \n",
      "10 9 5 6 1 3 2 4 8 7 \n",
      "0.010754099999758182\n"
     ]
    }
   ],
   "source": [
    "import timeit\n",
    "\n",
    "tls = latin_square(10)\n",
    "\n",
    "# Sem inferência\n",
    "\n",
    "start = timeit.default_timer()\n",
    "ls_no_inference = backtracking_search(tls)\n",
    "stop = timeit.default_timer()\n",
    "time = stop-start\n",
    "\n",
    "print(\"Sem inferência:\")\n",
    "display(10, ls_no_inference)\n",
    "print(time)\n",
    "\n",
    "# Com inferência Forward-Checking\n",
    "\n",
    "start = timeit.default_timer()\n",
    "ls_fc = backtracking_search(tls, inference=forward_checking)\n",
    "stop = timeit.default_timer()\n",
    "time = stop-start\n",
    "\n",
    "print(\"\\nCom inferência forward-checking:\")\n",
    "display(10, ls_fc)\n",
    "print(time)\n",
    "\n",
    "# Com inferência MAC\n",
    "\n",
    "start = timeit.default_timer()\n",
    "ls_mac = backtracking_search(tls, inference=mac)\n",
    "stop = timeit.default_timer()\n",
    "time = stop-start\n",
    "\n",
    "print(\"\\nCom inferência MAC:\")\n",
    "display(10, ls_mac)\n",
    "print(time)\n",
    "\n",
    "# Heurística\n",
    "\n",
    "start = timeit.default_timer()\n",
    "ls_heu = backtracking_search(tls, select_unassigned_variable=mrv)\n",
    "stop = timeit.default_timer()\n",
    "time = stop-start\n",
    "\n",
    "print(\"\\nCom heurística:\")\n",
    "display(10, ls_heu)\n",
    "print(time)"
   ]
  },
  {
   "cell_type": "markdown",
   "metadata": {},
   "source": [
    "Como se pode observar, a procura sem inferência é significativamente mais lenta que as restantes."
   ]
  },
  {
   "cell_type": "markdown",
   "metadata": {},
   "source": [
    "<hr>"
   ]
  },
  {
   "cell_type": "markdown",
   "id": "14a095c8",
   "metadata": {},
   "source": [
    "## Futoshiki\n",
    "\n",
    "### Representação de variáveis, domínios, vizinhos e restrições\n",
    "\n",
    "#### Variáveis, Domínios e Vizinhos\n",
    "As variáveis, domínios e vizinhos são definidos da mesma forma da formulação dos Quadrados Latinos.\n",
    "\n",
    "#### Desigualdades no tabuleiro de Futoshiki\n",
    "Os problemas de Futoshiki possuem no seu tabuleiro desigualdades (`neqs`) entre células vizinhas. Na formulação utilizada, as `neqs` que se pretendem inserir são fornecidas na forma de uma lista de tuplos da forma:\n",
    "```python\n",
    "neqs = [((x1,y1),(x2,y2)), ...]\n",
    "```\n",
    "Onde uma neq individual é composta por duas células `c1`, `(x1,y1)` e `c2`, `(x2,y2)`, tal que c1 deverá ser sempre maior que c2 (c1 > c2) na solução do problema.\n",
    "\n",
    "#### Restrições\n",
    "Criamos um dicionário `constraints` no qual são inseridas as restrições que podem ser do tipo `gt` (greater than) ou `lt` (lower than) conforme a posição de `c1` e `c2` para cada desigualdade fornecida. \n",
    "\n",
    "Para além disso, ao dicionário `constraints` também são adicionadas as restrições que verificam se os vizinhos são diferentes. No entanto, só são inseridas se e só se não existir nenhuma restrição proveniente das `neqs` que se sobreponha.\n",
    "\n",
    "### Formulação do Problema"
   ]
  },
  {
   "cell_type": "code",
   "execution_count": 142,
   "id": "06577d27",
   "metadata": {},
   "outputs": [],
   "source": [
    "def gt(a,b):\n",
    "    return a > b\n",
    "\n",
    "def lt(a,b):\n",
    "    return a < b\n",
    "\n",
    "def diff(a,b):\n",
    "    return a != b\n",
    "\n",
    "def futoshiki(dim, numbers={}, neqs=[]):\n",
    "    variables = [(x,y) for x in range(1,dim+1) for y in range(1,dim+1)]\n",
    "\n",
    "    domains = {v:list(range(1,dim+1)) for v in variables}\n",
    "\n",
    "    for cell,value in numbers.items():\n",
    "        if value > dim:\n",
    "            raise 'Erro: valor atribuído inválido'\n",
    "        else:\n",
    "            domains[cell] = [value]\n",
    "\n",
    "    neighbors = {v:grid_neighbors(v, variables) for v in variables}\n",
    "\n",
    "    def constraints(X, a, Y, b):\n",
    "\n",
    "        constraints = {}\n",
    "\n",
    "        # Creates constraints envolving cells contained in neqs\n",
    "        # Why 'neqs'? eq = equality, neq = non-equality, neqs = non-equalties\n",
    "        for neq in neqs:\n",
    "            c1, c2 = neq[0], neq[1]\n",
    "            constraints[(c1,c2)] = gt\n",
    "            constraints[(c2,c1)] = lt\n",
    "\n",
    "        if X in variables and Y in variables and (X,Y) not in constraints.keys():\n",
    "            constraints[(X,Y)] = diff\n",
    "    \n",
    "        return constraints[(X,Y)](a,b)\n",
    "    \n",
    "    return CSP(variables, domains, neighbors, constraints)"
   ]
  },
  {
   "cell_type": "markdown",
   "metadata": {},
   "source": [
    "### Visualização do problema\n",
    "\n",
    "#### Coordenadas Cartesianas vs Coordenadas de Lista\n",
    "\n",
    "A função `futoshiki_output()` utiliza listas para representar o tabuleiro. Por exemplo, um tabuleiro 3x3 (dim=3), seria representado da seguinte forma:\n",
    "```python\n",
    "l = [[ X ,' ', X ,' ', X ],\n",
    "     [' ',' ',' ',' ',' '],\n",
    "     [ X ,' ', X ,' ', X ],\n",
    "     [' ',' ',' ',' ',' '],\n",
    "     [ X ,' ', X ,' ', X ]]\n",
    "```\n",
    "Onde `X` representa uma célula do tabuleiro e `' '` representa um espaço em branco.\n",
    "\n",
    "É então necessário converter coordenadas cartesianas em coordenadas 'de lista'. De modo a que a uma célula cartesiana `(x,y)` corresponda uma célula de lista `l[y'][x']`. Por exemplo, a célula `(3,2)` seria representada por `l[2][4]`."
   ]
  },
  {
   "cell_type": "code",
   "execution_count": 143,
   "metadata": {},
   "outputs": [],
   "source": [
    "def list_coords(tuple):\n",
    "    '''Converts cartesian coordinates (x,y) in list coordinates l[y'][x']. '''\n",
    "    x, y = tuple[0], tuple[1]\n",
    "    return ((x-1)*2, (y-1)*2)\n",
    "\n",
    "def neq_placement(x1, y1, x2, y2):\n",
    "    '''Returns the appropriate symbol to show in the output \n",
    "    along with the list coordinates (xs, ys) where it should be put.'''\n",
    "    if x1 == x2:\n",
    "        xs = x1\n",
    "        ys = (y1 + y2) / 2\n",
    "        \n",
    "        if y1 > y2:\n",
    "            symbol = '^'\n",
    "        else: symbol = 'V'\n",
    "    \n",
    "    else: # y1 == y2\n",
    "        xs = (x1 + x2) / 2\n",
    "        ys = y1\n",
    "\n",
    "        if x1 > x2:\n",
    "            symbol = ' < '\n",
    "        else: symbol = ' > '\n",
    "    return (symbol, int(xs), int(ys))\n",
    "\n",
    "def board_to_list(dim, board):\n",
    "    '''Converts the board dict (cartesian) into a list.'''\n",
    "    board = force_ordered_board(dim, board)\n",
    "    line_list = [[] for i in range(2*dim)]\n",
    "    empty_line = ['   ' for i in range(2*dim-1)] # ['   ', '   ', ...] will serve as the empty line template\n",
    "\n",
    "    current_line = 0\n",
    "    for line in line_list:\n",
    "        row_from_line = current_line / 2 + 1 # the cartesian row from the list row\n",
    "\n",
    "        if current_line % 2 == 0: # even line\n",
    "            for cell,value in board.items():\n",
    "                cell_row = cell[1] # y coordinate\n",
    "\n",
    "                if cell_row == row_from_line: # it will only append the values from cells that have the right row\n",
    "                    line_list[current_line].append(str(value))\n",
    "                    line_list[current_line].append('   ')\n",
    "\n",
    "            line_list[current_line].pop() # remove last element, which is an empty space\n",
    "            current_line += 1\n",
    "\n",
    "        else: # odd line, must be empty\n",
    "            line_list[current_line] = empty_line.copy() \n",
    "            current_line += 1\n",
    "\n",
    "    line_list.pop() # remove last line, which is an empty line\n",
    "    return line_list\n",
    "\n",
    "def futoshiki_output(dim, board, neqs):\n",
    "\n",
    "    line_list = board_to_list(dim, board)\n",
    "\n",
    "    # Insert neqs into line_list\n",
    "    for neq in neqs:\n",
    "        c1, c2 = neq[0], neq[1]\n",
    "        x1, y1 = list_coords(c1)\n",
    "        x2, y2 = list_coords(c2)\n",
    "\n",
    "        symbol, xs, ys = neq_placement(x1, y1, x2, y2)\n",
    "        line_list[ys][xs] = symbol\n",
    "\n",
    "    # Output\n",
    "    for line in line_list:\n",
    "        line_output = ''\n",
    "        for char in line:\n",
    "            line_output += char\n",
    "        print(line_output)"
   ]
  },
  {
   "cell_type": "markdown",
   "metadata": {},
   "source": [
    "### Instâncias e Testes"
   ]
  },
  {
   "cell_type": "code",
   "execution_count": 145,
   "metadata": {},
   "outputs": [
    {
     "name": "stdout",
     "output_type": "stream",
     "text": [
      "Variáveis: [(1, 1), (1, 2), (1, 3), (1, 4), (1, 5), (2, 1), (2, 2), (2, 3), (2, 4), (2, 5), (3, 1), (3, 2), (3, 3), (3, 4), (3, 5), (4, 1), (4, 2), (4, 3), (4, 4), (4, 5), (5, 1), (5, 2), (5, 3), (5, 4), (5, 5)]\n",
      "\n",
      "Domínios: {(1, 1): [1, 2, 3, 4, 5], (1, 2): [1, 2, 3, 4, 5], (1, 3): [1, 2, 3, 4, 5], (1, 4): [1, 2, 3, 4, 5], (1, 5): [1, 2, 3, 4, 5], (2, 1): [1, 2, 3, 4, 5], (2, 2): [1, 2, 3, 4, 5], (2, 3): [1, 2, 3, 4, 5], (2, 4): [1, 2, 3, 4, 5], (2, 5): [1, 2, 3, 4, 5], (3, 1): [1, 2, 3, 4, 5], (3, 2): [4], (3, 3): [1, 2, 3, 4, 5], (3, 4): [1, 2, 3, 4, 5], (3, 5): [1, 2, 3, 4, 5], (4, 1): [1, 2, 3, 4, 5], (4, 2): [1, 2, 3, 4, 5], (4, 3): [1, 2, 3, 4, 5], (4, 4): [1, 2, 3, 4, 5], (4, 5): [1, 2, 3, 4, 5], (5, 1): [1, 2, 3, 4, 5], (5, 2): [1, 2, 3, 4, 5], (5, 3): [1, 2, 3, 4, 5], (5, 4): [1, 2, 3, 4, 5], (5, 5): [1, 2, 3, 4, 5]}\n",
      "\n",
      "Vizinhos: {(1, 1): [(1, 2), (1, 3), (1, 4), (1, 5), (2, 1), (3, 1), (4, 1), (5, 1)], (1, 2): [(1, 1), (1, 3), (1, 4), (1, 5), (2, 2), (3, 2), (4, 2), (5, 2)], (1, 3): [(1, 1), (1, 2), (1, 4), (1, 5), (2, 3), (3, 3), (4, 3), (5, 3)], (1, 4): [(1, 1), (1, 2), (1, 3), (1, 5), (2, 4), (3, 4), (4, 4), (5, 4)], (1, 5): [(1, 1), (1, 2), (1, 3), (1, 4), (2, 5), (3, 5), (4, 5), (5, 5)], (2, 1): [(1, 1), (2, 2), (2, 3), (2, 4), (2, 5), (3, 1), (4, 1), (5, 1)], (2, 2): [(1, 2), (2, 1), (2, 3), (2, 4), (2, 5), (3, 2), (4, 2), (5, 2)], (2, 3): [(1, 3), (2, 1), (2, 2), (2, 4), (2, 5), (3, 3), (4, 3), (5, 3)], (2, 4): [(1, 4), (2, 1), (2, 2), (2, 3), (2, 5), (3, 4), (4, 4), (5, 4)], (2, 5): [(1, 5), (2, 1), (2, 2), (2, 3), (2, 4), (3, 5), (4, 5), (5, 5)], (3, 1): [(1, 1), (2, 1), (3, 2), (3, 3), (3, 4), (3, 5), (4, 1), (5, 1)], (3, 2): [(1, 2), (2, 2), (3, 1), (3, 3), (3, 4), (3, 5), (4, 2), (5, 2)], (3, 3): [(1, 3), (2, 3), (3, 1), (3, 2), (3, 4), (3, 5), (4, 3), (5, 3)], (3, 4): [(1, 4), (2, 4), (3, 1), (3, 2), (3, 3), (3, 5), (4, 4), (5, 4)], (3, 5): [(1, 5), (2, 5), (3, 1), (3, 2), (3, 3), (3, 4), (4, 5), (5, 5)], (4, 1): [(1, 1), (2, 1), (3, 1), (4, 2), (4, 3), (4, 4), (4, 5), (5, 1)], (4, 2): [(1, 2), (2, 2), (3, 2), (4, 1), (4, 3), (4, 4), (4, 5), (5, 2)], (4, 3): [(1, 3), (2, 3), (3, 3), (4, 1), (4, 2), (4, 4), (4, 5), (5, 3)], (4, 4): [(1, 4), (2, 4), (3, 4), (4, 1), (4, 2), (4, 3), (4, 5), (5, 4)], (4, 5): [(1, 5), (2, 5), (3, 5), (4, 1), (4, 2), (4, 3), (4, 4), (5, 5)], (5, 1): [(1, 1), (2, 1), (3, 1), (4, 1), (5, 2), (5, 3), (5, 4), (5, 5)], (5, 2): [(1, 2), (2, 2), (3, 2), (4, 2), (5, 1), (5, 3), (5, 4), (5, 5)], (5, 3): [(1, 3), (2, 3), (3, 3), (4, 3), (5, 1), (5, 2), (5, 4), (5, 5)], (5, 4): [(1, 4), (2, 4), (3, 4), (4, 4), (5, 1), (5, 2), (5, 3), (5, 5)], (5, 5): [(1, 5), (2, 5), (3, 5), (4, 5), (5, 1), (5, 2), (5, 3), (5, 4)]}\n"
     ]
    }
   ],
   "source": [
    "neqs = [((1,1),(2,1)), # >\n",
    "        ((1,1),(1,2)), # V\n",
    "        ((1,3),(1,2)), # ^\n",
    "        ((2,3),(1,3))] # <\n",
    "\n",
    "tf = futoshiki(5, numbers={(3,2):4}, neqs=neqs)\n",
    "\n",
    "print(\"Variáveis:\", tf.variables)\n",
    "print(\"\\nDomínios:\", tf.domains)\n",
    "print(\"\\nVizinhos:\", tf.neighbors)\n"
   ]
  },
  {
   "cell_type": "markdown",
   "metadata": {},
   "source": [
    "#### Teste 1. Sem inferência, sem heurísticas"
   ]
  },
  {
   "cell_type": "code",
   "execution_count": 146,
   "metadata": {},
   "outputs": [
    {
     "name": "stdout",
     "output_type": "stream",
     "text": [
      "Sem inferência, sem heurísticas:\n",
      "1 > 2   3   4   5\n",
      "V                        \n",
      "2   1   4   3   6\n",
      "^                        \n",
      "3 < 4   1   2   7\n",
      "                           \n",
      "4   3   2   1   8\n",
      "                           \n",
      "5   6   7   8   9\n",
      "Tempo: 0.0034723000007943483\n"
     ]
    }
   ],
   "source": [
    "start = timeit.default_timer()\n",
    "ls_no_inference = backtracking_search(tls)\n",
    "stop = timeit.default_timer()\n",
    "time = stop-start\n",
    "\n",
    "print(\"Sem inferência, sem heurísticas:\")\n",
    "display(5, ls_no_inference, neqs)\n",
    "print(\"Tempo:\", time)"
   ]
  },
  {
   "cell_type": "markdown",
   "metadata": {},
   "source": [
    "A partir do dim = 14, a procura demora mais que 1 minuto:"
   ]
  },
  {
   "cell_type": "code",
   "execution_count": null,
   "metadata": {},
   "outputs": [],
   "source": [
    "tf_1min = futoshiki(14, numbers={(3,2):4}, neqs=neqs)\n",
    "\n",
    "start = timeit.default_timer()\n",
    "tf_no_inference = backtracking_search(tf_1min)\n",
    "stop = timeit.default_timer()\n",
    "time = stop-start\n",
    "\n",
    "print(\"Sem inferência, sem heurísticas:\")\n",
    "display(10, ls_no_inference, neqs)\n",
    "print(\"Tempo:\", time)"
   ]
  },
  {
   "cell_type": "markdown",
   "metadata": {},
   "source": [
    "#### Teste 2. Com inferência Forward-Checking"
   ]
  },
  {
   "cell_type": "code",
   "execution_count": 147,
   "metadata": {},
   "outputs": [
    {
     "name": "stdout",
     "output_type": "stream",
     "text": [
      "\n",
      "Com inferência forward-checking:\n",
      "2 > 1   3   4   5\n",
      "V                        \n",
      "1   2   4   5   3\n",
      "^                        \n",
      "3 < 4   5   2   1\n",
      "                           \n",
      "4   5   1   3   2\n",
      "                           \n",
      "5   3   2   1   4\n",
      "0.0032499999997526174\n"
     ]
    }
   ],
   "source": [
    "start = timeit.default_timer()\n",
    "tf_fc = backtracking_search(tf, inference=forward_checking)\n",
    "stop = timeit.default_timer()\n",
    "time = stop-start\n",
    "\n",
    "print(\"\\nCom inferência forward-checking:\")\n",
    "display(5, tf_fc, neqs)\n",
    "print(time)"
   ]
  },
  {
   "cell_type": "markdown",
   "metadata": {},
   "source": [
    "A partir de dim = 14, a procura demora mais que 1 minuto:"
   ]
  },
  {
   "cell_type": "code",
   "execution_count": null,
   "metadata": {},
   "outputs": [],
   "source": [
    "tf_1min = futoshiki(14, numbers={(3,2):4}, neqs=neqs)\n",
    "\n",
    "start = timeit.default_timer()\n",
    "tf_fc = backtracking_search(tf_1min, inference=forward_checking)\n",
    "stop = timeit.default_timer()\n",
    "time = stop-start\n",
    "\n",
    "print(\"\\nCom inferência forward-checking:\")\n",
    "display(5, tf_fc, neqs)\n",
    "print(time)"
   ]
  },
  {
   "cell_type": "markdown",
   "metadata": {},
   "source": [
    "#### Teste 3 - Com inferência MAC"
   ]
  },
  {
   "cell_type": "code",
   "execution_count": 148,
   "metadata": {},
   "outputs": [
    {
     "name": "stdout",
     "output_type": "stream",
     "text": [
      "\n",
      "Com inferência MAC:\n",
      "2 > 1   3   4   5\n",
      "V                        \n",
      "1   2   4   5   3\n",
      "^                        \n",
      "3 < 4   5   2   1\n",
      "                           \n",
      "4   5   1   3   2\n",
      "                           \n",
      "5   3   2   1   4\n",
      "0.0024670999991940334\n"
     ]
    }
   ],
   "source": [
    "start = timeit.default_timer()\n",
    "tf_mac = backtracking_search(tf, inference=mac)\n",
    "stop = timeit.default_timer()\n",
    "time = stop-start\n",
    "\n",
    "print(\"\\nCom inferência MAC:\")\n",
    "display(5, tf_mac, neqs = neqs)\n",
    "print(time)"
   ]
  },
  {
   "cell_type": "markdown",
   "metadata": {},
   "source": [
    "Apartir de \"dim = 12\" o tempo supera o 1 minuto:\n"
   ]
  },
  {
   "cell_type": "code",
   "execution_count": null,
   "metadata": {},
   "outputs": [],
   "source": [
    "tf_1min = futoshiki(12, numbers={(3,2):4}, neqs=neqs)\n",
    "\n",
    "start = timeit.default_timer()\n",
    "tf_mac = backtracking_search(tf_1min, inference=mac)\n",
    "stop = timeit.default_timer()\n",
    "time = stop-start\n",
    "\n",
    "print(\"\\nCom inferência MAC:\")\n",
    "display(12, tf_mac, neqs = neqs)\n",
    "print(time)\n"
   ]
  },
  {
   "cell_type": "markdown",
   "metadata": {},
   "source": [
    "#### Teste 4 - Com Heuristica"
   ]
  },
  {
   "cell_type": "code",
   "execution_count": 150,
   "metadata": {},
   "outputs": [
    {
     "name": "stdout",
     "output_type": "stream",
     "text": [
      "Com heurística:\n",
      "2 > 1   3   4   5\n",
      "V                        \n",
      "1   2   4   5   3\n",
      "^                        \n",
      "3 < 4   5   2   1\n",
      "                           \n",
      "4   5   1   3   2\n",
      "                           \n",
      "5   3   2   1   4\n",
      "0.0019635999997262843\n"
     ]
    }
   ],
   "source": [
    "start = timeit.default_timer()\n",
    "tf_heu = backtracking_search(tf, select_unassigned_variable=mrv)\n",
    "stop = timeit.default_timer()\n",
    "time = stop-start\n",
    "\n",
    "print(\"Com heurística:\")\n",
    "display(5, tf_heu, neqs=neqs)\n",
    "print(time)"
   ]
  },
  {
   "cell_type": "markdown",
   "metadata": {},
   "source": [
    "A partir de \"dim = 8\" o tempo supera o 1 minuto."
   ]
  },
  {
   "cell_type": "code",
   "execution_count": null,
   "metadata": {},
   "outputs": [],
   "source": [
    "tf_1min = futoshiki(8, numbers={(3,2):4}, neqs=neqs)\n",
    "\n",
    "start = timeit.default_timer()\n",
    "tf_heu = backtracking_search(tf_1min, select_unassigned_variable=mrv)\n",
    "stop = timeit.default_timer()\n",
    "time = stop-start\n",
    "\n",
    "print(\"Com heurística:\")\n",
    "display(8, tf_heu, neqs=neqs)\n",
    "print(time)"
   ]
  },
  {
   "cell_type": "markdown",
   "metadata": {},
   "source": [
    "Como se pode observar, a procura com a inferência MAC é a mais rápida e a procura utilizando a heurística é a mais lenta."
   ]
  }
 ],
 "metadata": {
  "interpreter": {
   "hash": "cc7436e339fb98a79d349a4b39e7546d0317772cabf469fe9b68837ca1e48e7d"
  },
  "kernelspec": {
   "display_name": "Python 3.9.7 ('base')",
   "language": "python",
   "name": "python3"
  },
  "language_info": {
   "codemirror_mode": {
    "name": "ipython",
    "version": 3
   },
   "file_extension": ".py",
   "mimetype": "text/x-python",
   "name": "python",
   "nbconvert_exporter": "python",
   "pygments_lexer": "ipython3",
   "version": "3.9.7"
  },
  "orig_nbformat": 4
 },
 "nbformat": 4,
 "nbformat_minor": 2
}
